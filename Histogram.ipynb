{
  "nbformat": 4,
  "nbformat_minor": 0,
  "metadata": {
    "colab": {
      "name": "Histogram.ipynb",
      "provenance": []
    },
    "kernelspec": {
      "name": "python3",
      "display_name": "Python 3"
    },
    "language_info": {
      "name": "python"
    }
  },
  "cells": [
    {
      "cell_type": "markdown",
      "source": [
        "**Find the histogram of each characters in the file**"
      ],
      "metadata": {
        "id": "6R-EGI8scg5_"
      }
    },
    {
      "cell_type": "code",
      "execution_count": 1,
      "metadata": {
        "colab": {
          "base_uri": "https://localhost:8080/"
        },
        "id": "twkhmnFfYmp1",
        "outputId": "7ae6dc53-bb67-4bc5-b9f5-43e72f3fce11"
      },
      "outputs": [
        {
          "output_type": "stream",
          "name": "stdout",
          "text": [
            "The text read is:python provides inbuilt functions for creating, writing, and reading files\n",
            "{'p': 2, 'y': 1, 't': 5, 'h': 1, 'o': 4, 'n': 8, ' ': 9, 'r': 5, 'v': 1, 'i': 9, 'd': 3, 'e': 4, 's': 3, 'b': 1, 'u': 2, 'l': 2, 'f': 3, 'c': 2, 'a': 3, 'g': 3, ',': 2, 'w': 1}\n",
            "p \t **\n",
            "y \t *\n",
            "t \t *****\n",
            "h \t *\n",
            "o \t ****\n",
            "n \t ********\n",
            "  \t *********\n",
            "r \t *****\n",
            "v \t *\n",
            "i \t *********\n",
            "d \t ***\n",
            "e \t ****\n",
            "s \t ***\n",
            "b \t *\n",
            "u \t **\n",
            "l \t **\n",
            "f \t ***\n",
            "c \t **\n",
            "a \t ***\n",
            "g \t ***\n",
            ", \t **\n",
            "w \t *\n"
          ]
        }
      ],
      "source": [
        "def histrogramCharacters():\n",
        "\n",
        "    #open file in read mode\n",
        "    file = open(\"content.txt\", \"r\")\n",
        "\n",
        "    #read the content of file\n",
        "    data = file.read()\n",
        "    data = data.lower()\n",
        "    print(\"The text read is:\"+data)\n",
        "    \n",
        "    Dict=dict()\n",
        "\n",
        "    for word in data:\n",
        "\n",
        "        if word not in Dict:\n",
        "\n",
        "            Dict[word]=1\n",
        "\n",
        "        else:\n",
        "\n",
        "            Dict[word]=Dict[word]+1\n",
        "\n",
        "    print(Dict)\n",
        "\n",
        "    for key, val in Dict.items():\n",
        "\n",
        "        print(key, '\\t', '*' *val)\n",
        "        \n",
        "histrogramCharacters()"
      ]
    }
  ]
}