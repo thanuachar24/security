{
  "nbformat": 4,
  "nbformat_minor": 0,
  "metadata": {
    "colab": {
      "name": "RSA - short.ipynb",
      "provenance": []
    },
    "kernelspec": {
      "name": "python3",
      "display_name": "Python 3"
    },
    "language_info": {
      "name": "python"
    }
  },
  "cells": [
    {
      "cell_type": "markdown",
      "source": [
        "**RSA - short**"
      ],
      "metadata": {
        "id": "kTUZtRDrd15k"
      }
    },
    {
      "cell_type": "code",
      "execution_count": 1,
      "metadata": {
        "colab": {
          "base_uri": "https://localhost:8080/"
        },
        "id": "1ps5Ufz6dvTm",
        "outputId": "c50050a6-01b9-4692-e42d-86e39d421d38"
      },
      "outputs": [
        {
          "output_type": "stream",
          "name": "stdout",
          "text": [
            "original string:  hello geeks\n",
            "encrypted string:  b'`\\x95\\xe4*bMD\\xb9\\x8b3\\x0c5\\xe8\\x90Q\\xec1\\x13\\xfd\\xb1xR_\\xb6\\xb1\\xf8\\xcdQ\\xb2?\\xc93\\xb8\\xac>O\\xd9\\xb0\\x0f\\xbe\\xa5\\xfa\\x87\\x84?\\x91F/\\x01\\x84\\xc0pP\\x99\\xf3\\x8b\\x82qK@V\\xf3\\x19\\xee'\n",
            "decrypted string:  hello geeks\n"
          ]
        }
      ],
      "source": [
        "import rsa\n",
        " \n",
        "publicKey, privateKey = rsa.newkeys(512)\n",
        " \n",
        "message = \"hello geeks\"\n",
        " \n",
        "encMessage = rsa.encrypt(message.encode(),\n",
        "                         publicKey)\n",
        " \n",
        "print(\"original string: \", message)\n",
        "print(\"encrypted string: \", encMessage)\n",
        " \n",
        "decMessage = rsa.decrypt(encMessage, privateKey).decode()\n",
        " \n",
        "print(\"decrypted string: \", decMessage)"
      ]
    }
  ]
}