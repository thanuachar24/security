{
  "nbformat": 4,
  "nbformat_minor": 0,
  "metadata": {
    "colab": {
      "name": "Atbash.ipynb",
      "provenance": []
    },
    "kernelspec": {
      "name": "python3",
      "display_name": "Python 3"
    },
    "language_info": {
      "name": "python"
    }
  },
  "cells": [
    {
      "cell_type": "code",
      "source": [
        "import os # Only used to clear the command prompt\n",
        "\n",
        "def Atbash_crypt(cistring):\n",
        "# Atbash_crypt splits string to characters, converts to numeric, then flips value\n",
        "\tstring = \"\"\t\t# Placeholder variable\n",
        "\tcistring = formatString(cistring)\n",
        "\tfor x in range(0, len(cistring)):\t# Loop through each character of string\n",
        "\t\tstring += flipChar(cistring[x])\n",
        "\treturn(string)\t# Return cipher string\n",
        "\n",
        "def formatString (string):\n",
        "\tfmtString = string.lower()\t# Format to Lowercase\n",
        "\tfmtString = \"\".join(fmtString.split())\t# Remove spaces from string\n",
        "\treturn fmtString\n",
        "\t\n",
        "def flipChar(char):\n",
        "\t# Convert character to numeric 1 - 26 and flip value\n",
        "\tflip = abs((ord(char) - 96) - 27)\n",
        "\t# Convert back to letter if within range, else remove character\n",
        "\treturn chr(flip + 96) if flip > 0 and flip <= 26 else \"\"\n",
        "\n",
        "def Atbash():\n",
        "\tos.system('cls')\n",
        "\tprint(\"Atbash Cipher\")\n",
        "\tprint(\"-------------------------------\")\n",
        "\tcistring = input(\"Please enter a text string below.  All numbers will be stripped.\\n\")\n",
        "\tprint(\"\\nThe starting string is:\")\n",
        "\tprint (cistring,\"\\n\")\n",
        "\tprint(\"The Atbash encrypted string is:\")\n",
        "\tprint(Atbash_crypt(cistring),\"\\n\")\n",
        "\tprint(\"The Atbash decrypted string is:\")\n",
        "\tprint(Atbash_crypt(Atbash_crypt(cistring)),\"\\n\")\n",
        "\tinput(\"Press Enter to continue...\")\n",
        "\t\n",
        "print(Atbash())"
      ],
      "metadata": {
        "colab": {
          "base_uri": "https://localhost:8080/"
        },
        "id": "NTYfmUgo-6qZ",
        "outputId": "a29d652a-5734-4487-8e5c-485f2ac6d823"
      },
      "execution_count": null,
      "outputs": [
        {
          "output_type": "stream",
          "name": "stdout",
          "text": [
            "Atbash Cipher\n",
            "-------------------------------\n",
            "Please enter a text string below.  All numbers will be stripped.\n",
            "thanu\n",
            "\n",
            "The starting string is:\n",
            "thanu \n",
            "\n",
            "The Atbash encrypted string is:\n",
            "gszmf \n",
            "\n",
            "The Atbash decrypted string is:\n",
            "thanu \n",
            "\n"
          ]
        }
      ]
    }
  ]
}