{
  "nbformat": 4,
  "nbformat_minor": 0,
  "metadata": {
    "colab": {
      "name": "Affine.ipynb",
      "provenance": []
    },
    "kernelspec": {
      "name": "python3",
      "display_name": "Python 3"
    },
    "language_info": {
      "name": "python"
    }
  },
  "cells": [
    {
      "cell_type": "code",
      "source": [
        ""
      ],
      "metadata": {
        "id": "s0NteYlGf8uV"
      },
      "execution_count": null,
      "outputs": []
    },
    {
      "cell_type": "code",
      "source": [
        "# ==============================================================================\n",
        "#\n",
        "#    Use:\n",
        "#    encrypt(\"Hello World!\", 9, 13)\n",
        "#    => \"Yxiij Djkio!\"\n",
        "#\n",
        "# ==============================================================================\n",
        "\n",
        "def encrypt(s, a, b):\n",
        "\n",
        "\toutput = ''\n",
        "\n",
        "\tfor c in s:\n",
        "\t\t\n",
        "\t\tif ord(c) >= 0x41 and ord(c) <= 0x5a:\n",
        "\t\t\ti = ord(c) - 0x41\n",
        "\t\t\ti = ( i * a + b ) % 26\n",
        "\t\t\toutput += chr(i + 0x41)\n",
        "\n",
        "\t\telif ord(c) >= 0x61 and ord(c) <= 0x7a:\n",
        "\t\t\ti = ord(c) - 0x61\n",
        "\t\t\ti = ( i * a + b ) % 26\n",
        "\t\t\toutput += chr(i + 0x61)\n",
        "\n",
        "\t\telse:\n",
        "\t\t\toutput += c\n",
        "\n",
        "\treturn output\n",
        "\n",
        "if __name__ == \"__main__\":\n",
        "\tprint( encrypt(\"Hello World!\", 9, 13) )"
      ],
      "metadata": {
        "colab": {
          "base_uri": "https://localhost:8080/"
        },
        "id": "6ivtt2mwf444",
        "outputId": "58c9e609-f782-4202-ded8-701b755551cb"
      },
      "execution_count": 1,
      "outputs": [
        {
          "output_type": "stream",
          "name": "stdout",
          "text": [
            "Yxiij Djkio!\n"
          ]
        }
      ]
    },
    {
      "cell_type": "code",
      "source": [
        "# ==============================================================================\n",
        "#\n",
        "#    Use:\n",
        "#    decrypt(\"Yxiij Djkio!\", 9, 13)\n",
        "#    => \"Hello World!\"\n",
        "#\n",
        "# ==============================================================================\n",
        "\n",
        "def decrypt(s, a, b):\n",
        "\n",
        "\toutput = ''\n",
        "\n",
        "\ta_inv = 0\n",
        "\twhile a * a_inv % 26 != 1:\n",
        "\t\ta_inv += 1\n",
        "\n",
        "\tfor c in s:\n",
        "\t\t\n",
        "\t\tif ord(c) >= 0x41 and ord(c) <= 0x5a:\n",
        "\t\t\ti = ord(c) - 0x41\n",
        "\t\t\ti = ( a_inv * (i-b) ) % 26\n",
        "\t\t\toutput += chr(i + 0x41)\n",
        "\n",
        "\t\telif ord(c) >= 0x61 and ord(c) <= 0x7a:\n",
        "\t\t\ti = ord(c) - 0x61\n",
        "\t\t\ti = ( a_inv * (i-b) ) % 26\n",
        "\t\t\toutput += chr(i + 0x61)\n",
        "\n",
        "\t\telse:\n",
        "\t\t\toutput += c\n",
        "\n",
        "\treturn output\n",
        "\n",
        "if __name__ == \"__main__\":\n",
        "\tprint( decrypt(\"Yxiij Djkio!\", 9, 13) )"
      ],
      "metadata": {
        "colab": {
          "base_uri": "https://localhost:8080/"
        },
        "id": "hv-55DXLgJEw",
        "outputId": "2a63cccd-3e9a-447f-cc1f-c05ea4344a82"
      },
      "execution_count": 2,
      "outputs": [
        {
          "output_type": "stream",
          "name": "stdout",
          "text": [
            "Hello World!\n"
          ]
        }
      ]
    }
  ]
}